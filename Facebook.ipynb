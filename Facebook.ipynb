{
 "cells": [
  {
   "cell_type": "code",
   "execution_count": 43,
   "metadata": {},
   "outputs": [],
   "source": [
    "import facebook\n",
    "import requests\n",
    "import json "
   ]
  },
  {
   "cell_type": "code",
   "execution_count": 44,
   "metadata": {},
   "outputs": [],
   "source": [
    "def get_page_credentials(company_name, page_name):\n",
    "    with open(\"credentials.json\", \"r\") as f:\n",
    "        data = json.load(f)\n",
    "\n",
    "    for company in data[\"companies\"]:\n",
    "        if company[\"company_name\"] == company_name:\n",
    "            for page in company[\"pages\"]:\n",
    "                if page[\"page_name\"] == page_name:\n",
    "                    return page[\"page_id\"], page[\"access_token\"]\n",
    "            break\n",
    "    return None, None"
   ]
  },
  {
   "cell_type": "code",
   "execution_count": 45,
   "metadata": {},
   "outputs": [
    {
     "name": "stdout",
     "output_type": "stream",
     "text": [
      "107246428673184 EAAI569D4SBkBO1pg7zkAM2nqOwl3jnzI1bo2muZAkvBO7e2aMKWzpU5VBHP6POByn7H2woNf0YqLEqnkpTlL2CHkYBe1ypCsZCAhvmss7ZA68hTbQ1cgdagFGlUVZCuZCWM1WZAzCvNOORD3bqi8TI6UnUCil6pGDmp84h4CanpxgCEEujhAMaveAn0pKbMYJc8DQuqmohykRZCW5ZAaffmx81EZD\n"
     ]
    }
   ],
   "source": [
    "page_id, access_token = get_page_credentials(\"raisebe\",\"Facebook\")\n",
    "print(page_id,access_token)"
   ]
  },
  {
   "cell_type": "code",
   "execution_count": 46,
   "metadata": {},
   "outputs": [],
   "source": [
    "def post_text_status(company_name,page_name, status_message):\n",
    "    page_id, access_token = get_page_credentials(company_name,page_name)\n",
    "    \n",
    "    if page_id and access_token:\n",
    "        print(page_id,access_token)\n",
    "        graph = facebook.GraphAPI(access_token=access_token, version=\"3.0\")\n",
    "        graph.put_object(parent_object=page_id, connection_name='feed', message=status_message)\n",
    "        posts = graph.get_connections(id=page_id, connection_name=\"posts\", limit=1)\n",
    "        print(\"Text status posted successfully.\")\n",
    "        print(posts['data'][0]['id'])\n",
    "        return posts['data'][0]['id']\n",
    "    else:\n",
    "        print(\"Page not found or credentials not available.\")"
   ]
  },
  {
   "cell_type": "code",
   "execution_count": 47,
   "metadata": {},
   "outputs": [],
   "source": [
    "def post_photo(company_name ,page_name, photo_path, caption=None):\n",
    "    page_id, access_token = get_page_credentials(company_name ,page_name)\n",
    "\n",
    "    if page_id and access_token:\n",
    "        graph = facebook.GraphAPI(access_token=access_token, version=\"3.0\")\n",
    "        with open(photo_path, \"rb\") as photo:\n",
    "            graph.put_photo(parent_object=page_id, image=photo, message=caption)\n",
    "            posts = graph.get_connections(id=page_id, connection_name=\"posts\", limit=1)\n",
    "            print(\"Photo posted successfully.\")\n",
    "            print(posts['data'][0]['id'])\n",
    "            return posts['data'][0]['id']\n",
    "    else:\n",
    "        print(\"Page not found or credentials not available.\")"
   ]
  },
  {
   "cell_type": "code",
   "execution_count": 48,
   "metadata": {},
   "outputs": [],
   "source": [
    "def post_link(company_name ,page_name, link_url, link_caption, link_description):\n",
    "    page_id, access_token = get_page_credentials(company_name ,page_name)\n",
    "    \n",
    "    if not page_id or not access_token:\n",
    "        print(\"Unable to retrieve credentials. Cannot post link.\")\n",
    "        return\n",
    "    \n",
    "    graph = facebook.GraphAPI(access_token=access_token, version=\"3.0\")\n",
    "    \n",
    "    message = f\"{link_caption}\\n{link_description}\"\n",
    "\n",
    "    try:\n",
    "        graph.put_object(parent_object=page_id, connection_name='feed', link=link_url, message=message)\n",
    "        posts = graph.get_connections(id=page_id, connection_name=\"posts\", limit=1)\n",
    "        print(\"Link posted successfully.\")\n",
    "        print(posts['data'][0]['id'])\n",
    "        return posts['data'][0]['id']\n",
    "    except facebook.GraphAPIError as e:\n",
    "        print(f\"Error posting link: {e}\")\n",
    "        return None"
   ]
  },
  {
   "cell_type": "code",
   "execution_count": 49,
   "metadata": {},
   "outputs": [],
   "source": [
    "import requests\n",
    "from tqdm import tqdm  # Import tqdm library for the progress bar\n",
    "\n",
    "def post_video(company_name , page_name, video_path, video_title, video_description):\n",
    "    page_id, access_token = get_page_credentials(company_name ,page_name)\n",
    "    \n",
    "    if not page_id or not access_token:\n",
    "        print(\"Unable to retrieve credentials. Cannot post video.\")\n",
    "        return\n",
    "    \n",
    "    url = f'https://graph.facebook.com/{page_id}/videos'\n",
    "    \n",
    "    params = {\n",
    "        'access_token': access_token,\n",
    "        'description': video_description\n",
    "    }\n",
    "\n",
    "    with open(video_path, 'rb') as video_file:\n",
    "        files = {\n",
    "            'source': (video_title, video_file, 'video/mp4')\n",
    "        }\n",
    "\n",
    "        response = requests.post(url, data=params, files=files, stream=True)  # Use stream=True for streaming upload\n",
    "\n",
    "        if response.status_code == 200:\n",
    "            print(\"Video posted successfully.\")\n",
    "            return response.json()\n",
    "        else:\n",
    "            print(f\"Error posting video: {response.status_code}\")\n",
    "            print(response.content)  # Print detailed response content for debugging\n",
    "            return None\n",
    "\n",
    "\n"
   ]
  },
  {
   "cell_type": "code",
   "execution_count": 50,
   "metadata": {},
   "outputs": [],
   "source": [
    "def create_event(company_name , page_name, event_name, start_time, end_time, event_description):\n",
    "    page_id, access_token = get_page_credentials(company_name ,page_name)\n",
    "\n",
    "    if page_id and access_token:\n",
    "        graph = facebook.GraphAPI(access_token=access_token, version=\"3.0\")\n",
    "        event_data = {\n",
    "            \"name\": event_name,\n",
    "            \"start_time\": start_time,\n",
    "            \"end_time\": end_time,\n",
    "            \"description\": event_description,\n",
    "        }\n",
    "        graph.put_object(parent_object=page_id, connection_name=\"events\", **event_data)\n",
    "        posts = graph.get_connections(id=page_id, connection_name=\"posts\", limit=1)\n",
    "        print(\"Event created successfully.\")\n",
    "        print(posts['data'][0]['id'])\n",
    "        return posts['data'][0]['id']\n",
    "    else:\n",
    "        print(\"Page not found or credentials not available.\")"
   ]
  },
  {
   "cell_type": "code",
   "execution_count": 51,
   "metadata": {},
   "outputs": [],
   "source": [
    "def delete_post(company_name ,page_name, post_id):\n",
    "    page_id, access_token = get_page_credentials(company_name ,page_name)\n",
    "\n",
    "    if page_id and access_token:\n",
    "        graph = facebook.GraphAPI(access_token=access_token, version=\"3.0\")\n",
    "        graph.delete_object(id=post_id)\n",
    "        print(\"Post deleted successfully.\")\n",
    "    else:\n",
    "        print(\"Page not found or credentials not available.\")"
   ]
  },
  {
   "cell_type": "code",
   "execution_count": 52,
   "metadata": {},
   "outputs": [],
   "source": [
    "def get_page_info(company_name, page_name):\n",
    "    page_id, access_token = get_page_credentials(company_name, page_name)\n",
    "\n",
    "    if page_id and access_token:\n",
    "        graph = facebook.GraphAPI(access_token=access_token, version=\"3.0\")\n",
    "        page_info = graph.get_object(id=page_id, fields=\"name, category, description, picture, cover\")\n",
    "        return page_info\n",
    "    else:\n",
    "        return None"
   ]
  },
  {
   "cell_type": "code",
   "execution_count": 53,
   "metadata": {},
   "outputs": [],
   "source": [
    "def get_page_posts(company_name , page_name, post_count=5):\n",
    "    page_id, access_token = get_page_credentials(company_name ,page_name)\n",
    "\n",
    "    if page_id and access_token:\n",
    "        graph = facebook.GraphAPI(access_token=access_token, version=\"3.0\")\n",
    "        posts = graph.get_connections(id=page_id, connection_name=\"posts\", limit=post_count)\n",
    "        return posts\n",
    "    else:\n",
    "        return None"
   ]
  },
  {
   "cell_type": "code",
   "execution_count": 54,
   "metadata": {},
   "outputs": [
    {
     "data": {
      "text/plain": [
       "{'data': [{'created_time': '2023-08-25T11:36:45+0000',\n",
       "   'message': 'Check out this cool website!\\nExplore amazing content and more.',\n",
       "   'id': '107246428673184_273103388812657'},\n",
       "  {'created_time': '2023-08-25T11:36:38+0000',\n",
       "   'message': 'Peakpx.jpg',\n",
       "   'id': '107246428673184_273103358812660'},\n",
       "  {'created_time': '2023-08-25T11:36:34+0000',\n",
       "   'message': 'Hello, World!',\n",
       "   'id': '107246428673184_273103295479333'},\n",
       "  {'created_time': '2023-08-25T11:34:11+0000',\n",
       "   'message': 'Check out this cool website!\\nExplore amazing content and more.',\n",
       "   'id': '107246428673184_273102382146091'},\n",
       "  {'created_time': '2023-08-25T11:34:04+0000',\n",
       "   'message': 'Peakpx.jpg',\n",
       "   'id': '107246428673184_273102328812763'}],\n",
       " 'paging': {'cursors': {'before': 'QVFIUnlQNTEyZAVQ1bk9HYTY4YWdzNGw5UFFsWTBKTDlWR0hEczAweUdnS3NzNERva2tTcnM0OEtBWEE5blNCZAGRDVFJjTEZALOE52NTkyVlF6R1ZAxb3BORVNBUGxiSmppM0I2djl4LU02Rk1YTnJQWnFhVVFRN1dfRWkzQ3VBLUM0bUQ2UVFoX0s0T2VueWlsd3lGN21hd2JtS1VoUFotVkI1bTI0NXhFbDdxRlNQWXZApLVNRQ2lkZAnhva3I2a1NObUozUkQtQ0RoSTNxdjJRSVRNRFVDSkV6NGtkeHdLZA1owalpNVDNUODhDcnlZANmhCSkxvbHpLMW1TRy1iMHNBaGZAUZAkFBUDZA0eURTbzRHZA3RDX2tIS3ZACczNXNnQ3VlZAQTmZAmb1FDQXBBX3hHZAHV2bGRNbDJpUlNlTzFZAVDJnOU1SdHJpR0pEcUc4VGk0Rk54M2NOSFZAkeHJNYkowREZAfQ3k4cXBSQUphY2NzaW80OU00NGpaTHRUR2RIMmZAGbVdrZAnY5X0VYdnAteGJaVUpkWk1ncVkxSmp5eU51V0liM2RmbjR2NTVkT1NMaXN6ZAnU5eU9fcXNSdUZAkN2RWQUsxZAVhkZAktDQjdaOUtOQTlaTEVVNXNEdFUzZA2tB',\n",
       "   'after': 'QVFIUm1YalpvbzJxZA0sxZAU9wUWR6YzJ2REg0VHhxVGdfU2s0YkVPeDZAEQW95UmViNnVIVG1yY2JOeVpBLUhfNUk3TzhDWEVuTjdFaE5TUGxTWldkeG9PUHJPS1gzNkdBUVpjWktFRXBXSU1qQ0hMN3VBN01tOHdoT28xMVluTTlyV3BzUUJjNGhwa3N1SU5DaDZAITUk0cXFCdG5aSmgxTjFlY0ZAhcTJBV2FfSVg2NkVDTlFjOEthUmdrUFZAOZAUJIbmpfeU16MDFHRzJmZA3J3ZADdZAcUJHQ0VSSHE1SGZA2OG9ERzByallBdmdOMFpkZA2FQcU5BVk11WEcyczJFd0JFd1FrbjJqcHh5dGxTMUdELUFxUWdQcnh2QlNWSzBxVG5LYzhocFd1M2dIcnYxWlFIeU9sbHAtbDdiSGhYU3BwbVlKMzg5UnYxNDkyandFb1hlZAklsdUEyUEJxTXgwdjVUUnR4LWR3SW1fVi04RjFENHZAGYjNwQTh6SjZAScG81MVJEdVVXb2VDc0QtMjRHQXMwcWlGcmVveTBuOUxFYzdXWGkxX0p5VXB0eUFLZAGlRR1JPb1VxUDhKbU1xRDhyVW5zRzJ2azcyY1dwMHo5WXhsQ2RHdERJQ2d4UW5n'},\n",
       "  'next': 'https://graph.facebook.com/v17.0/107246428673184/posts?limit=5&access_token=EAAI569D4SBkBO1pg7zkAM2nqOwl3jnzI1bo2muZAkvBO7e2aMKWzpU5VBHP6POByn7H2woNf0YqLEqnkpTlL2CHkYBe1ypCsZCAhvmss7ZA68hTbQ1cgdagFGlUVZCuZCWM1WZAzCvNOORD3bqi8TI6UnUCil6pGDmp84h4CanpxgCEEujhAMaveAn0pKbMYJc8DQuqmohykRZCW5ZAaffmx81EZD&after=QVFIUm1YalpvbzJxZA0sxZAU9wUWR6YzJ2REg0VHhxVGdfU2s0YkVPeDZAEQW95UmViNnVIVG1yY2JOeVpBLUhfNUk3TzhDWEVuTjdFaE5TUGxTWldkeG9PUHJPS1gzNkdBUVpjWktFRXBXSU1qQ0hMN3VBN01tOHdoT28xMVluTTlyV3BzUUJjNGhwa3N1SU5DaDZAITUk0cXFCdG5aSmgxTjFlY0ZAhcTJBV2FfSVg2NkVDTlFjOEthUmdrUFZAOZAUJIbmpfeU16MDFHRzJmZA3J3ZADdZAcUJHQ0VSSHE1SGZA2OG9ERzByallBdmdOMFpkZA2FQcU5BVk11WEcyczJFd0JFd1FrbjJqcHh5dGxTMUdELUFxUWdQcnh2QlNWSzBxVG5LYzhocFd1M2dIcnYxWlFIeU9sbHAtbDdiSGhYU3BwbVlKMzg5UnYxNDkyandFb1hlZAklsdUEyUEJxTXgwdjVUUnR4LWR3SW1fVi04RjFENHZAGYjNwQTh6SjZAScG81MVJEdVVXb2VDc0QtMjRHQXMwcWlGcmVveTBuOUxFYzdXWGkxX0p5VXB0eUFLZAGlRR1JPb1VxUDhKbU1xRDhyVW5zRzJ2azcyY1dwMHo5WXhsQ2RHdERJQ2d4UW5n'}}"
      ]
     },
     "execution_count": 54,
     "metadata": {},
     "output_type": "execute_result"
    }
   ],
   "source": [
    "\n",
    "get_page_posts(\"raisebe\" , \"Facebook\", post_count=5)"
   ]
  },
  {
   "cell_type": "code",
   "execution_count": 55,
   "metadata": {},
   "outputs": [],
   "source": [
    "def get_page_insights(company_name, page_name, metric, period=\"day\"):\n",
    "    page_id, access_token = get_page_credentials(company_name ,page_name)\n",
    "\n",
    "    if page_id and access_token:\n",
    "        graph = facebook.GraphAPI(access_token=access_token, version=\"3.0\")\n",
    "        insights = graph.get_object(id=page_id, fields=f\"insights.metric({metric}).period({period})\")\n",
    "        return insights.get(\"data\", [])\n",
    "    else:\n",
    "        return None"
   ]
  },
  {
   "cell_type": "code",
   "execution_count": 59,
   "metadata": {},
   "outputs": [],
   "source": [
    "import pandas as pd\n",
    "from datetime import datetime\n",
    "\n",
    "def runallpost():\n",
    "    df = pd.read_excel(\"posts.xlsx\")\n",
    "    \n",
    "    for index, row in df.iterrows():\n",
    "        company_name = row['Company Name']\n",
    "        page_name = row['Page Name']\n",
    "        post_type = row['Post Type']\n",
    "        post_status = row['Posted']\n",
    "\n",
    "\n",
    "        page_id, access_token = get_page_credentials(company_name, page_name)\n",
    "\n",
    "        \n",
    "        if post_status != \"Posted\":\n",
    "            if not (page_id and access_token):\n",
    "                print(f\"Credentials not found for {company_name} - {page_name}. Skipping post.\")\n",
    "                continue\n",
    "            \n",
    "\n",
    "            if post_type == 'Text':\n",
    "                status_message = row['Status Message']\n",
    "                post_id = post_text_status(company_name, page_name, status_message)\n",
    "            elif post_type == 'Photo':\n",
    "                photo_url = row['Photo URL']\n",
    "                caption = row['Caption']\n",
    "                post_id = post_photo(company_name, page_name, photo_url, caption)\n",
    "            elif post_type == 'Link':\n",
    "                link_url = row['Link URL']\n",
    "                link_caption = row['Link Caption']\n",
    "                link_description = row['Link Description']\n",
    "                post_id = post_link(company_name, page_name, link_url, link_caption, link_description)\n",
    "            elif post_type == 'Video':\n",
    "                print(\"Function is under construction for Event posts.\")\n",
    "                # Similar to other post types, call the relevant function and get the post_id\n",
    "                # post_id = post_video(company_name, page_name, video_url, title, description)\n",
    "                post_id =''\n",
    "            elif post_type == 'Event':\n",
    "                print(\"Function is under construction for Event posts.\")\n",
    "                # Similar to other post types, call the relevant function and get the post_id\n",
    "                # post_id = create_event(company_name, page_name, event_name, start_time, end_time, event_location, description)\n",
    "                post_id =''\n",
    "            else:\n",
    "                print(f\"Unknown post type '{post_type}' for {company_name} - {page_name}. Skipping post.\")\n",
    "                continue\n",
    "            \n",
    "            # Record the post_id and status in the DataFrame\n",
    "            df.at[index, 'Post_ID'] = post_id\n",
    "            print(post_id)\n",
    "            df.at[index, 'Posted'] = 'Posted' if post_id else 'Failed'\n",
    "            current_time = datetime.now().strftime('%Y-%m-%d %H:%M:%S')\n",
    "            df.at[index, 'created_time'] = current_time\n",
    "\n",
    "    df.to_excel(\"posts.xlsx\", index=False)\n",
    "\n"
   ]
  },
  {
   "cell_type": "code",
   "execution_count": 60,
   "metadata": {},
   "outputs": [
    {
     "name": "stdout",
     "output_type": "stream",
     "text": [
      "107246428673184 EAAI569D4SBkBO1pg7zkAM2nqOwl3jnzI1bo2muZAkvBO7e2aMKWzpU5VBHP6POByn7H2woNf0YqLEqnkpTlL2CHkYBe1ypCsZCAhvmss7ZA68hTbQ1cgdagFGlUVZCuZCWM1WZAzCvNOORD3bqi8TI6UnUCil6pGDmp84h4CanpxgCEEujhAMaveAn0pKbMYJc8DQuqmohykRZCW5ZAaffmx81EZD\n",
      "Text status posted successfully.\n",
      "107246428673184_273110028811993\n",
      "107246428673184_273110028811993\n",
      "Photo posted successfully.\n",
      "107246428673184_273110092145320\n",
      "107246428673184_273110092145320\n",
      "Link posted successfully.\n",
      "107246428673184_273110142145315\n",
      "107246428673184_273110142145315\n",
      "Function is under construction for Event posts.\n",
      "\n",
      "Function is under construction for Event posts.\n",
      "\n",
      "Unknown post type 'media' for raisebe - Instagram. Skipping post.\n",
      "Unknown post type 'media_link' for raisebe - Instagram. Skipping post.\n",
      "Unknown post type 'media' for raisebe - Instagram. Skipping post.\n",
      "Unknown post type 'media_link' for raisebe - Instagram. Skipping post.\n"
     ]
    }
   ],
   "source": [
    "runallpost()"
   ]
  },
  {
   "cell_type": "code",
   "execution_count": null,
   "metadata": {},
   "outputs": [],
   "source": []
  }
 ],
 "metadata": {
  "kernelspec": {
   "display_name": "env",
   "language": "python",
   "name": "python3"
  },
  "language_info": {
   "codemirror_mode": {
    "name": "ipython",
    "version": 3
   },
   "file_extension": ".py",
   "mimetype": "text/x-python",
   "name": "python",
   "nbconvert_exporter": "python",
   "pygments_lexer": "ipython3",
   "version": "3.9.6"
  },
  "orig_nbformat": 4
 },
 "nbformat": 4,
 "nbformat_minor": 2
}
