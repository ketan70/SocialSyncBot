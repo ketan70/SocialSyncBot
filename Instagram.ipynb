{
 "cells": [
  {
   "cell_type": "code",
   "execution_count": 1,
   "metadata": {},
   "outputs": [],
   "source": [
    "import facebook\n",
    "import requests\n",
    "import json "
   ]
  },
  {
   "cell_type": "code",
   "execution_count": 2,
   "metadata": {},
   "outputs": [],
   "source": [
    "def get_page_credentials(company_name, page_name):\n",
    "    with open(\"credentials.json\", \"r\") as f:\n",
    "        data = json.load(f)\n",
    "\n",
    "    for company in data[\"companies\"]:\n",
    "        if company[\"company_name\"] == company_name:\n",
    "            for page in company[\"pages\"]:\n",
    "                if page[\"page_name\"] == page_name:\n",
    "                    return page[\"page_id\"], page[\"access_token\"]\n",
    "            break\n",
    "    return None, None"
   ]
  },
  {
   "cell_type": "code",
   "execution_count": 3,
   "metadata": {},
   "outputs": [],
   "source": [
    "def post_media_link(page_name, media_url, caption, link_url, company_name):\n",
    "    page_id, access_token = get_page_credentials(company_name, page_name)\n",
    "\n",
    "    if page_id and access_token:\n",
    "        api_url = f\"https://graph.instagram.com/{page_id}/media\"\n",
    "        params = {\n",
    "            \"access_token\": access_token,\n",
    "            \"media_url\": media_url,\n",
    "            \"caption\": f\"{caption} More info: {link_url}\"  # Include the link in the caption\n",
    "        }\n",
    "\n",
    "        response = requests.post(api_url, params=params)\n",
    "\n",
    "        if response.status_code == 200:\n",
    "            response_data = response.json()\n",
    "            media_id = response_data.get(\"id\")\n",
    "            if media_id:\n",
    "                print(\"Media with caption posted successfully.\")\n",
    "            else:\n",
    "                print(\"Media post successful, but no media ID returned.\")\n",
    "        else:\n",
    "            print(\"Media post failed:\", response.status_code, response.text)\n",
    "    else:\n",
    "        print(\"Page not found or credentials not available.\")"
   ]
  },
  {
   "cell_type": "code",
   "execution_count": 4,
   "metadata": {},
   "outputs": [
    {
     "name": "stdout",
     "output_type": "stream",
     "text": [
      "Media post failed: 400 Sorry, this content isn't available right now\n"
     ]
    }
   ],
   "source": [
    "post_media_link(\"Instagram\", \"Image\\peakpx.jpg\", \"Your caption here\", \"https://raisebe.com\", \"raisebe\")"
   ]
  },
  {
   "cell_type": "code",
   "execution_count": 5,
   "metadata": {},
   "outputs": [],
   "source": [
    "import pandas as pd\n",
    "\n",
    "def runallpost():\n",
    "    df = pd.read_excel(\"posts.xlsx\")\n",
    "    filtered_rows = df.iloc[df['platform']=='Instagram']\n",
    "\n",
    "    for index, row in filtered_rows.iterrows():\n",
    "        page_name = row['Page Name']\n",
    "        post_type = row['Post Type']\n",
    "\n",
    "        media_url = row['Photo URL'] if pd.notnull(row['Photo URL']) else row['Video Path']\n",
    "\n",
    "        if post_type == 'media':\n",
    "            caption = row['Caption']\n",
    "            post_instagram_media_with_link(page_name, media_url, caption)\n",
    "        elif post_type == 'media_link':\n",
    "            link_url = row['Link URL']\n",
    "            link_caption = row['Link Caption']\n",
    "            post_instagram_media_with_link(page_name, media_url, link_caption, link_url)\n",
    "        else:\n",
    "            print(f\"Unknown post type '{post_type}' for {page_name}. Skipping post.\")\n",
    "\n",
    "\n"
   ]
  },
  {
   "cell_type": "code",
   "execution_count": 6,
   "metadata": {},
   "outputs": [],
   "source": [
    "def post_media_to_instagram(company_name, page_name, imagepath, caption):\n",
    "    page_id, access_token = get_page_credentials(company_name, page_name)\n",
    "    Graph_url = \"https://graph.facebook.com/v17.0/{}/media\".format(page_id)\n",
    "    data = {\n",
    "        \"image_url\": imagepath,\n",
    "        \"caption\": caption,\n",
    "        \"access_token\": access_token\n",
    "    }\n",
    "\n",
    "    r = requests.post(Graph_url, data=data)\n",
    "    results = json.loads(r.text)\n",
    "\n",
    "    if 'id' in results:\n",
    "        creation_id = results['id']\n",
    "\n",
    "        Publish_url = \"https://graph.facebook.com/v17.0/{}/media_publish\".format(page_id)\n",
    "        data2 = {\n",
    "            'creation_id': creation_id,\n",
    "            \"access_token\": access_token\n",
    "        }\n",
    "\n",
    "        r = requests.post(Publish_url, data=data2)\n",
    "        return r.text"
   ]
  },
  {
   "cell_type": "code",
   "execution_count": 7,
   "metadata": {},
   "outputs": [],
   "source": [
    "post_media_to_instagram(\"raisebe\", \"Instagram\", \"Image\\peakpx.jpg\", \"caption\")"
   ]
  },
  {
   "cell_type": "code",
   "execution_count": null,
   "metadata": {},
   "outputs": [],
   "source": []
  },
  {
   "cell_type": "code",
   "execution_count": null,
   "metadata": {},
   "outputs": [],
   "source": []
  },
  {
   "cell_type": "code",
   "execution_count": null,
   "metadata": {},
   "outputs": [],
   "source": []
  },
  {
   "cell_type": "code",
   "execution_count": null,
   "metadata": {},
   "outputs": [],
   "source": []
  }
 ],
 "metadata": {
  "kernelspec": {
   "display_name": "myenv",
   "language": "python",
   "name": "python3"
  },
  "language_info": {
   "codemirror_mode": {
    "name": "ipython",
    "version": 3
   },
   "file_extension": ".py",
   "mimetype": "text/x-python",
   "name": "python",
   "nbconvert_exporter": "python",
   "pygments_lexer": "ipython3",
   "version": "3.9.6"
  },
  "orig_nbformat": 4
 },
 "nbformat": 4,
 "nbformat_minor": 2
}
